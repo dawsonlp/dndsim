{
 "cells": [
  {
   "cell_type": "code",
   "execution_count": null,
   "metadata": {},
   "outputs": [],
   "source": [
    "import hashlib\n",
    "\n",
    "# output sha256 hash in hexadecimal string format\n",
    "def hash(message):\n",
    "    return hashlib.sha256(message).hexdigest()\n",
    "\n",
    "\n",
    "# modify these messages\n",
    "# note: we include the \"b\" before the string definition in order to represent it as bytes instead of a string\n",
    "message_one = b\"I am authorizing the transfer of $500 to Harold\"\n",
    "\n",
    "message_two = b\"I am authorizing the transfer of $5000 to Harold\"\n",
    "\n",
    "# print both messages and their corresponding hashes\n",
    "print(message_one, hash(message_one))\n",
    "print(message_two, hash(message_two))\n",
    "\n",
    "# compare the hashes in an if statement\n",
    "\n",
    "hash_one = hash(message_one)\n",
    "\n",
    "hash_two = hash(message_two)\n",
    "\n",
    "if hash_one == hash_two:\n",
    "    print(\"Hashes are equal\")\n",
    "else:\n",
    "    print(\"Hashes are not equal\")\n",
    "\n",
    "# compare the length of the hashes\n",
    "\n",
    "print(\"Length of hash one:\", len(hash_one))\n",
    "print(\"Length of hash two:\", len(hash_two))"
   ]
  },
  {
   "cell_type": "code",
   "execution_count": null,
   "metadata": {},
   "outputs": [],
   "source": []
  }
 ],
 "metadata": {
  "kernelspec": {
   "display_name": "dndsim",
   "language": "python",
   "name": "dndsim"
  },
  "language_info": {
   "codemirror_mode": {
    "name": "ipython",
    "version": 3
   },
   "file_extension": ".py",
   "mimetype": "text/x-python",
   "name": "python",
   "nbconvert_exporter": "python",
   "pygments_lexer": "ipython3",
   "version": "3.7.6"
  }
 },
 "nbformat": 4,
 "nbformat_minor": 4
}
